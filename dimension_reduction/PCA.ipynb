{
 "cells": [
  {
   "cell_type": "markdown",
   "id": "061f6846",
   "metadata": {},
   "source": [
    "## PCA- Dimension Reduction_feature extraction"
   ]
  },
  {
   "cell_type": "code",
   "execution_count": 62,
   "id": "13aacdd0",
   "metadata": {},
   "outputs": [],
   "source": [
    "## Example of PCA without using sklearn library"
   ]
  },
  {
   "cell_type": "code",
   "execution_count": 27,
   "id": "22a67735",
   "metadata": {},
   "outputs": [],
   "source": [
    "import numpy as np\n",
    "import pandas as pd\n",
    "import matplotlib.pyplot as plt\n",
    "from sklearn.decomposition import PCA\n",
    "from sklearn.preprocessing import StandardScaler"
   ]
  },
  {
   "cell_type": "code",
   "execution_count": 28,
   "id": "a230b1ce",
   "metadata": {},
   "outputs": [],
   "source": [
    "df = pd.DataFrame(columns=['calory', 'breakfast', 'lunch', 'dinner', 'exercise', 'body'])"
   ]
  },
  {
   "cell_type": "code",
   "execution_count": 29,
   "id": "c1850113",
   "metadata": {},
   "outputs": [],
   "source": [
    "df.loc[0] = [1200, 1, 0, 0, 2, 'Skinny']\n",
    "df.loc[1] = [2800, 1, 1, 1, 1, 'Normal']\n",
    "df.loc[2] = [3500, 2, 2, 1, 0, 'Fat']\n",
    "df.loc[3] = [1400, 0, 1, 0, 3, 'Skinny']"
   ]
  },
  {
   "cell_type": "code",
   "execution_count": 32,
   "id": "2d81480d",
   "metadata": {},
   "outputs": [
    {
     "data": {
      "text/html": [
       "<div>\n",
       "<style scoped>\n",
       "    .dataframe tbody tr th:only-of-type {\n",
       "        vertical-align: middle;\n",
       "    }\n",
       "\n",
       "    .dataframe tbody tr th {\n",
       "        vertical-align: top;\n",
       "    }\n",
       "\n",
       "    .dataframe thead th {\n",
       "        text-align: right;\n",
       "    }\n",
       "</style>\n",
       "<table border=\"1\" class=\"dataframe\">\n",
       "  <thead>\n",
       "    <tr style=\"text-align: right;\">\n",
       "      <th></th>\n",
       "      <th>calory</th>\n",
       "      <th>breakfast</th>\n",
       "      <th>lunch</th>\n",
       "      <th>dinner</th>\n",
       "      <th>exercise</th>\n",
       "    </tr>\n",
       "  </thead>\n",
       "  <tbody>\n",
       "    <tr>\n",
       "      <th>0</th>\n",
       "      <td>1200</td>\n",
       "      <td>1</td>\n",
       "      <td>0</td>\n",
       "      <td>0</td>\n",
       "      <td>2</td>\n",
       "    </tr>\n",
       "    <tr>\n",
       "      <th>1</th>\n",
       "      <td>2800</td>\n",
       "      <td>1</td>\n",
       "      <td>1</td>\n",
       "      <td>1</td>\n",
       "      <td>1</td>\n",
       "    </tr>\n",
       "    <tr>\n",
       "      <th>2</th>\n",
       "      <td>3500</td>\n",
       "      <td>2</td>\n",
       "      <td>2</td>\n",
       "      <td>1</td>\n",
       "      <td>0</td>\n",
       "    </tr>\n",
       "    <tr>\n",
       "      <th>3</th>\n",
       "      <td>1400</td>\n",
       "      <td>0</td>\n",
       "      <td>1</td>\n",
       "      <td>0</td>\n",
       "      <td>3</td>\n",
       "    </tr>\n",
       "  </tbody>\n",
       "</table>\n",
       "</div>"
      ],
      "text/plain": [
       "   calory  breakfast  lunch  dinner  exercise\n",
       "0    1200          1      0       0         2\n",
       "1    2800          1      1       1         1\n",
       "2    3500          2      2       1         0\n",
       "3    1400          0      1       0         3"
      ]
     },
     "execution_count": 32,
     "metadata": {},
     "output_type": "execute_result"
    }
   ],
   "source": [
    "X = df[['calory', 'breakfast', 'lunch', 'dinner', 'exercise']]\n",
    "X"
   ]
  },
  {
   "cell_type": "code",
   "execution_count": 34,
   "id": "86710eba",
   "metadata": {},
   "outputs": [
    {
     "data": {
      "text/html": [
       "<div>\n",
       "<style scoped>\n",
       "    .dataframe tbody tr th:only-of-type {\n",
       "        vertical-align: middle;\n",
       "    }\n",
       "\n",
       "    .dataframe tbody tr th {\n",
       "        vertical-align: top;\n",
       "    }\n",
       "\n",
       "    .dataframe thead th {\n",
       "        text-align: right;\n",
       "    }\n",
       "</style>\n",
       "<table border=\"1\" class=\"dataframe\">\n",
       "  <thead>\n",
       "    <tr style=\"text-align: right;\">\n",
       "      <th></th>\n",
       "      <th>body</th>\n",
       "    </tr>\n",
       "  </thead>\n",
       "  <tbody>\n",
       "    <tr>\n",
       "      <th>0</th>\n",
       "      <td>Skinny</td>\n",
       "    </tr>\n",
       "    <tr>\n",
       "      <th>1</th>\n",
       "      <td>Normal</td>\n",
       "    </tr>\n",
       "    <tr>\n",
       "      <th>2</th>\n",
       "      <td>Fat</td>\n",
       "    </tr>\n",
       "    <tr>\n",
       "      <th>3</th>\n",
       "      <td>Skinny</td>\n",
       "    </tr>\n",
       "  </tbody>\n",
       "</table>\n",
       "</div>"
      ],
      "text/plain": [
       "     body\n",
       "0  Skinny\n",
       "1  Normal\n",
       "2     Fat\n",
       "3  Skinny"
      ]
     },
     "execution_count": 34,
     "metadata": {},
     "output_type": "execute_result"
    }
   ],
   "source": [
    "Y = df[['body']]\n",
    "Y"
   ]
  },
  {
   "cell_type": "markdown",
   "id": "76302f6b",
   "metadata": {},
   "source": [
    "### 3. recaling feature vectors to all have the same scale"
   ]
  },
  {
   "cell_type": "code",
   "execution_count": 37,
   "id": "f04449f9",
   "metadata": {},
   "outputs": [],
   "source": [
    "scaler = StandardScaler()"
   ]
  },
  {
   "cell_type": "code",
   "execution_count": 51,
   "id": "b7945eaa",
   "metadata": {},
   "outputs": [
    {
     "data": {
      "text/plain": [
       "array([[-1.06754907,  0.        , -1.41421356, -1.        ,  0.4472136 ],\n",
       "       [ 0.59886899,  0.        ,  0.        ,  1.        , -0.4472136 ],\n",
       "       [ 1.32792689,  1.41421356,  1.41421356,  1.        , -1.34164079],\n",
       "       [-0.85924681, -1.41421356,  0.        , -1.        ,  1.34164079]])"
      ]
     },
     "execution_count": 51,
     "metadata": {},
     "output_type": "execute_result"
    }
   ],
   "source": [
    "x_std = StandardScaler().fit_transform(X)\n",
    "x_std"
   ]
  },
  {
   "cell_type": "markdown",
   "id": "976ef6a5",
   "metadata": {},
   "source": [
    "### 4. Covariance Matrix of features"
   ]
  },
  {
   "cell_type": "code",
   "execution_count": 43,
   "id": "6e54fd9b",
   "metadata": {},
   "outputs": [
    {
     "name": "stdout",
     "output_type": "stream",
     "text": [
      "[[ 1.33333333  1.03104357  1.1292382   1.28453059 -1.22654875]\n",
      " [ 1.03104357  1.33333333  0.66666667  0.94280904 -1.26491106]\n",
      " [ 1.1292382   0.66666667  1.33333333  0.94280904 -0.84327404]\n",
      " [ 1.28453059  0.94280904  0.94280904  1.33333333 -1.19256959]\n",
      " [-1.22654875 -1.26491106 -0.84327404 -1.19256959  1.33333333]]\n"
     ]
    }
   ],
   "source": [
    "features =x_std.T\n",
    "covariance_matrix = np.cov(features)\n",
    "print(covariance_matrix)"
   ]
  },
  {
   "cell_type": "markdown",
   "id": "58991d15",
   "metadata": {},
   "source": [
    "### 5. Eigen Vectors and Eigen Values"
   ]
  },
  {
   "cell_type": "code",
   "execution_count": 45,
   "id": "8e340585",
   "metadata": {},
   "outputs": [],
   "source": [
    "eig_vals, eig_vecs = np.linalg.eig(covariance_matrix)"
   ]
  },
  {
   "cell_type": "code",
   "execution_count": 46,
   "id": "01bbcf4e",
   "metadata": {},
   "outputs": [
    {
     "name": "stdout",
     "output_type": "stream",
     "text": [
      "Eigenvectors \n",
      "[[ 0.48298439+0.00000000e+00j  0.17903216+0.00000000e+00j\n",
      "  -0.15967571+0.00000000e+00j -0.68998368+0.00000000e+00j\n",
      "  -0.68998368-0.00000000e+00j]\n",
      " [ 0.42226547+0.00000000e+00j -0.58513039+0.00000000e+00j\n",
      "   0.47809839+0.00000000e+00j -0.16243241+2.19253052e-01j\n",
      "  -0.16243241-2.19253052e-01j]\n",
      " [ 0.39130466+0.00000000e+00j  0.71274767+0.00000000e+00j\n",
      "   0.5108641 +0.00000000e+00j  0.22866533-3.18498432e-17j\n",
      "   0.22866533+3.18498432e-17j]\n",
      " [ 0.46013063+0.00000000e+00j  0.08441567+0.00000000e+00j\n",
      "  -0.6963203 +0.00000000e+00j  0.20852455+1.55035320e-01j\n",
      "   0.20852455-1.55035320e-01j]\n",
      " [-0.4728408 +0.00000000e+00j  0.33231712+0.00000000e+00j\n",
      "   0.00902793+0.00000000e+00j -0.4576902 +3.46669513e-01j\n",
      "  -0.4576902 -3.46669513e-01j]]\n"
     ]
    }
   ],
   "source": [
    "print('Eigenvectors \\n%s' %eig_vecs)"
   ]
  },
  {
   "cell_type": "code",
   "execution_count": 47,
   "id": "f047877f",
   "metadata": {},
   "outputs": [
    {
     "name": "stdout",
     "output_type": "stream",
     "text": [
      "\n",
      "Eigenvectors \n",
      "[5.57418352e+00+0.00000000e+00j 7.88170528e-01+0.00000000e+00j\n",
      " 3.04312619e-01+0.00000000e+00j 6.77684198e-17+9.84833885e-17j\n",
      " 6.77684198e-17-9.84833885e-17j]\n"
     ]
    }
   ],
   "source": [
    "print('\\nEigenvectors \\n%s' %eig_vals)"
   ]
  },
  {
   "cell_type": "code",
   "execution_count": 48,
   "id": "66e4603d",
   "metadata": {},
   "outputs": [
    {
     "data": {
      "text/plain": [
       "(0.8361275280106689+0j)"
      ]
     },
     "execution_count": 48,
     "metadata": {},
     "output_type": "execute_result"
    }
   ],
   "source": [
    "eig_vals[0] / sum(eig_vals)"
   ]
  },
  {
   "cell_type": "code",
   "execution_count": 52,
   "id": "c55cde59",
   "metadata": {},
   "outputs": [],
   "source": [
    "projected_X = x_std.dot(eig_vecs.T[0])"
   ]
  },
  {
   "cell_type": "code",
   "execution_count": 53,
   "id": "73011de9",
   "metadata": {},
   "outputs": [
    {
     "data": {
      "text/plain": [
       "array([-1.74058935+0.j,  0.96083584+0.j,  2.886443  +0.j, -2.10668949+0.j])"
      ]
     },
     "execution_count": 53,
     "metadata": {},
     "output_type": "execute_result"
    }
   ],
   "source": [
    "projected_X"
   ]
  },
  {
   "cell_type": "code",
   "execution_count": 55,
   "id": "c97f7811",
   "metadata": {},
   "outputs": [],
   "source": [
    "result = pd.DataFrame(projected_X, columns=['PC1'])\n",
    "result['y-axis'] = 0.0\n",
    "result['label'] = Y"
   ]
  },
  {
   "cell_type": "code",
   "execution_count": 56,
   "id": "ce1929b5",
   "metadata": {
    "scrolled": true
   },
   "outputs": [
    {
     "data": {
      "text/html": [
       "<div>\n",
       "<style scoped>\n",
       "    .dataframe tbody tr th:only-of-type {\n",
       "        vertical-align: middle;\n",
       "    }\n",
       "\n",
       "    .dataframe tbody tr th {\n",
       "        vertical-align: top;\n",
       "    }\n",
       "\n",
       "    .dataframe thead th {\n",
       "        text-align: right;\n",
       "    }\n",
       "</style>\n",
       "<table border=\"1\" class=\"dataframe\">\n",
       "  <thead>\n",
       "    <tr style=\"text-align: right;\">\n",
       "      <th></th>\n",
       "      <th>PC1</th>\n",
       "      <th>y-axis</th>\n",
       "      <th>label</th>\n",
       "    </tr>\n",
       "  </thead>\n",
       "  <tbody>\n",
       "    <tr>\n",
       "      <th>0</th>\n",
       "      <td>-1.740589+0.000000j</td>\n",
       "      <td>0.0</td>\n",
       "      <td>Skinny</td>\n",
       "    </tr>\n",
       "    <tr>\n",
       "      <th>1</th>\n",
       "      <td>0.960836+0.000000j</td>\n",
       "      <td>0.0</td>\n",
       "      <td>Normal</td>\n",
       "    </tr>\n",
       "    <tr>\n",
       "      <th>2</th>\n",
       "      <td>2.886443+0.000000j</td>\n",
       "      <td>0.0</td>\n",
       "      <td>Fat</td>\n",
       "    </tr>\n",
       "    <tr>\n",
       "      <th>3</th>\n",
       "      <td>-2.106689+0.000000j</td>\n",
       "      <td>0.0</td>\n",
       "      <td>Skinny</td>\n",
       "    </tr>\n",
       "  </tbody>\n",
       "</table>\n",
       "</div>"
      ],
      "text/plain": [
       "                  PC1  y-axis   label\n",
       "0 -1.740589+0.000000j     0.0  Skinny\n",
       "1  0.960836+0.000000j     0.0  Normal\n",
       "2  2.886443+0.000000j     0.0     Fat\n",
       "3 -2.106689+0.000000j     0.0  Skinny"
      ]
     },
     "execution_count": 56,
     "metadata": {},
     "output_type": "execute_result"
    }
   ],
   "source": [
    "result.head(10)"
   ]
  },
  {
   "cell_type": "code",
   "execution_count": 59,
   "id": "425b6b4f",
   "metadata": {},
   "outputs": [
    {
     "name": "stderr",
     "output_type": "stream",
     "text": [
      "/Users/minseokoh/anaconda3/lib/python3.11/site-packages/seaborn/regression.py:620: ComplexWarning: Casting complex values to real discards the imaginary part\n",
      "  xys = data[[x, y]].to_numpy().astype(float)\n",
      "/Users/minseokoh/anaconda3/lib/python3.11/site-packages/seaborn/regression.py:620: ComplexWarning: Casting complex values to real discards the imaginary part\n",
      "  xys = data[[x, y]].to_numpy().astype(float)\n",
      "/Users/minseokoh/anaconda3/lib/python3.11/site-packages/seaborn/regression.py:620: ComplexWarning: Casting complex values to real discards the imaginary part\n",
      "  xys = data[[x, y]].to_numpy().astype(float)\n",
      "/Users/minseokoh/anaconda3/lib/python3.11/site-packages/matplotlib/collections.py:192: ComplexWarning: Casting complex values to real discards the imaginary part\n",
      "  offsets = np.asanyarray(offsets, float)\n"
     ]
    },
    {
     "data": {
      "image/png": "[encoded data removed]",
      "text/plain": [
       "<Figure size 600.375x500 with 1 Axes>"
      ]
     },
     "metadata": {},
     "output_type": "display_data"
    }
   ],
   "source": [
    "sns.lmplot(x='PC1', y='y-axis', data=result, fit_reg=False, scatter_kws={\"s\": 50}, hue=\"label\")\n",
    "plt.title('PCA result')\n",
    "plt.show();"
   ]
  },
  {
   "cell_type": "code",
   "execution_count": null,
   "id": "f78fa566",
   "metadata": {},
   "outputs": [],
   "source": []
  },
  {
   "cell_type": "code",
   "execution_count": null,
   "id": "77e0db84",
   "metadata": {},
   "outputs": [],
   "source": []
  }
 ],
 "metadata": {
  "kernelspec": {
   "display_name": "Python 3 (ipykernel)",
   "language": "python",
   "name": "python3"
  },
  "language_info": {
   "codemirror_mode": {
    "name": "ipython",
    "version": 3
   },
   "file_extension": ".py",
   "mimetype": "text/x-python",
   "name": "python",
   "nbconvert_exporter": "python",
   "pygments_lexer": "ipython3",
   "version": "3.11.4"
  }
 },
 "nbformat": 4,
 "nbformat_minor": 5
}
