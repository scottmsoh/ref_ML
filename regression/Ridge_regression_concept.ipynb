{
 "cells": [
  {
   "cell_type": "markdown",
   "id": "8ab9bbb9",
   "metadata": {},
   "source": [
    "## Ridge-regression concepts"
   ]
  },
  {
   "cell_type": "markdown",
   "id": "49098c5d",
   "metadata": {},
   "source": [
    "Linear-regression model formula = B0 + B1*X1 + B2*X2 + BnXn...\n",
    "\n",
    "Linear regression can suffer from overfitting, especially if there are too many features or if the features are highly correlated (multicollinearity)."
   ]
  },
  {
   "cell_type": "markdown",
   "id": "e9195abd",
   "metadata": {},
   "source": [
    "Due to large estimated coefficients, leading to a model that's too sensitive to small fluctuations in the data.\n",
    "\n",
    "Modify the linear regression by adding a penalty term to \"the cost function\". This penalty term regularizes the coefficients."
   ]
  },
  {
   "cell_type": "markdown",
   "id": "ee0a6b2a",
   "metadata": {},
   "source": [
    "Minimize (Sum of Squares Residuals + λ * Sum of Squares Coefficients)\n",
    "\n",
    "λ is regularization parameter\n",
    "\n",
    "Penalty Term: λ * Sum of Squares Coefficients"
   ]
  },
  {
   "cell_type": "markdown",
   "id": "ad0c8975",
   "metadata": {},
   "source": [
    "Penalty term affects shrinking Coefficients values toward zero (Reducing model complexity and overfitting)"
   ]
  },
  {
   "cell_type": "markdown",
   "id": "c64c77ac",
   "metadata": {},
   "source": [
    "#### Finding \"optimal λ\" is crucial for improving Ridge model performance"
   ]
  },
  {
   "cell_type": "markdown",
   "id": "5e8e009b",
   "metadata": {},
   "source": [
    "To find best parameter \"λ\", techniques like GridSearchCV to find the best λ that balances the bias-variance tradeoff.\n"
   ]
  },
  {
   "cell_type": "code",
   "execution_count": null,
   "id": "5217a4d4",
   "metadata": {},
   "outputs": [],
   "source": []
  }
 ],
 "metadata": {
  "kernelspec": {
   "display_name": "Python 3 (ipykernel)",
   "language": "python",
   "name": "python3"
  },
  "language_info": {
   "codemirror_mode": {
    "name": "ipython",
    "version": 3
   },
   "file_extension": ".py",
   "mimetype": "text/x-python",
   "name": "python",
   "nbconvert_exporter": "python",
   "pygments_lexer": "ipython3",
   "version": "3.11.4"
  }
 },
 "nbformat": 4,
 "nbformat_minor": 5
}
