{
 "cells": [
  {
   "cell_type": "markdown",
   "id": "979c00c5",
   "metadata": {},
   "source": [
    "### Cost function"
   ]
  },
  {
   "cell_type": "markdown",
   "id": "444b156a",
   "metadata": {},
   "source": [
    "SSR, MSE\n",
    "\n",
    "1. MSE = 1/n * Sum of Squares (predicted value y - actual value y)\n",
    "\n",
    "2. SSR = Sum of Squares (predicted value y - actual value y)"
   ]
  },
  {
   "cell_type": "code",
   "execution_count": null,
   "id": "3f9dc1bd",
   "metadata": {},
   "outputs": [],
   "source": []
  }
 ],
 "metadata": {
  "kernelspec": {
   "display_name": "Python 3 (ipykernel)",
   "language": "python",
   "name": "python3"
  },
  "language_info": {
   "codemirror_mode": {
    "name": "ipython",
    "version": 3
   },
   "file_extension": ".py",
   "mimetype": "text/x-python",
   "name": "python",
   "nbconvert_exporter": "python",
   "pygments_lexer": "ipython3",
   "version": "3.11.4"
  }
 },
 "nbformat": 4,
 "nbformat_minor": 5
}
