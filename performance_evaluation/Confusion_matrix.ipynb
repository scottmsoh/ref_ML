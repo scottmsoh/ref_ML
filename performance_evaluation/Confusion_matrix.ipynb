{
 "cells": [
  {
   "cell_type": "markdown",
   "id": "035e6cc3",
   "metadata": {},
   "source": [
    "## Confusion Matrix"
   ]
  },
  {
   "cell_type": "code",
   "execution_count": 2,
   "id": "01543c97",
   "metadata": {},
   "outputs": [],
   "source": [
    "## Example of RandomForest classifier"
   ]
  },
  {
   "cell_type": "code",
   "execution_count": null,
   "id": "a11abfb1",
   "metadata": {},
   "outputs": [],
   "source": [
    "from sklearn.datasets import load_iris\n",
    "from sklearn.model_selection import train_test_split\n",
    "from sklearn.ensemble import RandomForestClassifier\n",
    "from sklearn.metrics import confusion_matrix\n",
    "import matplotlib.pyplot as plt\n",
    "import seaborn as sns\n",
    "\n",
    "# Load a sample dataset\n",
    "iris = load_iris()\n",
    "X, y = iris.data, iris.target\n",
    "\n",
    "# Split the dataset into training and testing sets\n",
    "X_train, X_test, y_train, y_test = train_test_split(X, y, test_size=0.3, random_state=42)\n",
    "\n",
    "# Ex. Create a RandomForest Classifier\n",
    "clf = RandomForestClassifier(random_state=42)\n",
    "clf.fit(X_train, y_train)\n",
    "\n",
    "# Make predictions on the test set\n",
    "y_pred = clf.predict(X_test)\n",
    "\n",
    "# Create the confusion matrix\n",
    "cm = confusion_matrix(y_test, y_pred)\n",
    "\n",
    "# Visualize the confusion matrix\n",
    "plt.figure(figsize=(8, 6))\n",
    "sns.heatmap(cm, annot=True, fmt=\"d\", cmap=\"Blues\")\n",
    "plt.xlabel('Predicted Labels')\n",
    "plt.ylabel('True Labels')\n",
    "plt.title('Confusion Matrix')\n",
    "plt.show()"
   ]
  },
  {
   "cell_type": "code",
   "execution_count": 3,
   "id": "3116d314",
   "metadata": {},
   "outputs": [],
   "source": [
    "## Example of how to get Precision, Recall, Specificity, ROC curve, and AUROC"
   ]
  },
  {
   "cell_type": "code",
   "execution_count": null,
   "id": "47b953d6",
   "metadata": {},
   "outputs": [],
   "source": [
    "from sklearn.metrics import precision_score, recall_score, f1_score, roc_curve, auc, confusion_matrix\n",
    "\n",
    "# Precision\n",
    "precision = precision_score(y_test, y_pred, average='weighted') \n",
    "\n",
    "# Recall\n",
    "recall = recall_score(y_test, y_pred, average='weighted') \n",
    "\n",
    "# F1-Score\n",
    "f1 = f1_score(y_test, y_pred, average='weighted') \n",
    "\n",
    "# Confusion Matrix for Specificity\n",
    "cm = confusion_matrix(y_test, y_pred)\n",
    "tn, fp, fn, tp = cm.ravel()\n",
    "specificity = tn / (tn + fp)\n",
    "\n",
    "print(\"Precision:\", precision)\n",
    "print(\"Recall:\", recall)\n",
    "print(\"Specificity:\", specificity)\n",
    "print(\"F1-Score:\", f1)\n"
   ]
  },
  {
   "cell_type": "code",
   "execution_count": null,
   "id": "2ba5d930",
   "metadata": {},
   "outputs": [],
   "source": [
    "from sklearn.metrics import roc_auc_score\n",
    "\n",
    "# ROC Curve\n",
    "fpr, tpr, thresholds = roc_curve(y_test, y_scores)  # y_scores should be probability estimates of the positive class\n",
    "\n",
    "# AUROC\n",
    "auroc = roc_auc_score(y_test, y_scores)\n",
    "\n",
    "print(\"AUROC:\", auroc)\n",
    "\n",
    "# Plotting ROC Curve\n",
    "import matplotlib.pyplot as plt\n",
    "\n",
    "plt.figure()\n",
    "plt.plot(fpr, tpr, color='darkorange', lw=2, label='ROC curve (area = %0.2f)' % auroc)\n",
    "plt.plot([0, 1], [0, 1], color='navy', lw=2, linestyle='--')\n",
    "## a diagonal line that runs from the point (0,0) to (1,1) on the ROC plot.\n",
    "plt.xlim([0.0, 1.0])\n",
    "## Sets the limits of the x-axis to range from 0 to 1.\n",
    "plt.ylim([0.0, 1.05])\n",
    "## Sets the limits of the y-axis to range from 0 to slightly above 1 (1.05). \n",
    "## This limit is set slightly above 1 to provide some space above the ROC curve \n",
    "## for better visualization.\n",
    "\n",
    "plt.xlabel('False Positive Rate')\n",
    "plt.ylabel('True Positive Rate')\n",
    "plt.title('Receiver Operating Characteristic')\n",
    "plt.legend(loc=\"lower right\")\n",
    "plt.show()\n"
   ]
  },
  {
   "cell_type": "code",
   "execution_count": null,
   "id": "e98d1c3f",
   "metadata": {},
   "outputs": [],
   "source": []
  }
 ],
 "metadata": {
  "kernelspec": {
   "display_name": "Python 3 (ipykernel)",
   "language": "python",
   "name": "python3"
  },
  "language_info": {
   "codemirror_mode": {
    "name": "ipython",
    "version": 3
   },
   "file_extension": ".py",
   "mimetype": "text/x-python",
   "name": "python",
   "nbconvert_exporter": "python",
   "pygments_lexer": "ipython3",
   "version": "3.11.4"
  }
 },
 "nbformat": 4,
 "nbformat_minor": 5
}
