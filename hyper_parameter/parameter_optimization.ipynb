{
 "cells": [
  {
   "cell_type": "markdown",
   "id": "864d4e59",
   "metadata": {},
   "source": [
    "## Parameter optimization"
   ]
  },
  {
   "cell_type": "code",
   "execution_count": 1,
   "id": "de184255",
   "metadata": {},
   "outputs": [],
   "source": [
    "## Example of KNN model's n_neighbors hyper parameter optimization"
   ]
  },
  {
   "cell_type": "code",
   "execution_count": null,
   "id": "3da4c9b7",
   "metadata": {},
   "outputs": [],
   "source": [
    "train_accuracy = []\n",
    "test_accuracy = []\n",
    "neighbors = range(1, 11)\n",
    "for n in neighbors:\n",
    "  knn = KnighborsClassifier(n_neighbors=n)\n",
    "  knn.fit(Xtrain, y_train)\n",
    "  train_accuracy.append(knn.score(X_train, y_train))\n",
    "  test_accuracy.append(knn.score(X_test, y_test))"
   ]
  },
  {
   "cell_type": "code",
   "execution_count": 2,
   "id": "030a1a8b",
   "metadata": {},
   "outputs": [],
   "source": [
    "## By creating plot, we able to compare accuracy between train result and test result\n",
    "## to avoid overfitting"
   ]
  },
  {
   "cell_type": "code",
   "execution_count": null,
   "id": "02b2a21f",
   "metadata": {},
   "outputs": [],
   "source": [
    "import matplotlib as plt\n",
    "#matplotlib inline\n",
    "\n",
    "plt.plot(neighbors, train_accuracy, label=\"train accuracy\")\n",
    "plt.plot(neighbors, test_accuracy, label=\"test accuracy\")\n",
    "plt.xlabel(\"n_neighbors\")\n",
    "plt.ylabel(\"accuracy)\n",
    "plt.legend();"
   ]
  }
 ],
 "metadata": {
  "kernelspec": {
   "display_name": "Python 3 (ipykernel)",
   "language": "python",
   "name": "python3"
  },
  "language_info": {
   "codemirror_mode": {
    "name": "ipython",
    "version": 3
   },
   "file_extension": ".py",
   "mimetype": "text/x-python",
   "name": "python",
   "nbconvert_exporter": "python",
   "pygments_lexer": "ipython3",
   "version": "3.11.4"
  }
 },
 "nbformat": 4,
 "nbformat_minor": 5
}
