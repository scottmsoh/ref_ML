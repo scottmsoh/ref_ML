{
 "cells": [
  {
   "cell_type": "markdown",
   "id": "2bb9bf8b",
   "metadata": {},
   "source": [
    " ## Grid Search "
   ]
  },
  {
   "cell_type": "code",
   "execution_count": null,
   "id": "1728a7f3",
   "metadata": {},
   "outputs": [],
   "source": [
    "## Declaration <br/>\n",
    "## from sklearn.preprocessing import PolynomialFeatures \n",
    "## from sklearn.linear_model import LinearRegression \n",
    "## from sklearn.pipeline import make_pipeline \n",
    "## import matplotlib.pyplot as plt\n",
    "\n",
    "## Start Grid search <br/>\n",
    "from sklearn.model_selection import GridSearchCV \n",
    "%matplotlib inline \n",
    "\n",
    "## range: 0~20 degree apply\n",
    "param_grid = {'polynomialfeatures__degree': np.arange(21),\n",
    "              'linearregression__fit_intercept': [True, False],\n",
    "              'linearregression__normalize': [True, False]}\n",
    "## In this example: 20*2*2= 80ea number of cases  execution \n",
    "\n",
    "grid = GridSearchCV(PolynomialRegression(), param_grid, cv=7)\n",
    "## Cross-validation function: e.g. 7ea cross-validate\n",
    "\n",
    "grid.fit(X,y)\n",
    "grid.best_params_\n",
    "\n",
    "## * Optimized Model (plot visualization)\n",
    "model = grid.best_estmiator_\n",
    "\n",
    "plt.fiture(figsize=(8,7)\n",
    "plt.scatter(X.ravel(), y)\n",
    "lim = plt.axis()\n",
    "y_test = model.fit(X,y).predict(X_test)\n",
    "plt.plot(X_test.ravel(), y_test);\n",
    "plt.axis(lim);"
   ]
  }
 ],
 "metadata": {
  "kernelspec": {
   "display_name": "Python 3 (ipykernel)",
   "language": "python",
   "name": "python3"
  },
  "language_info": {
   "codemirror_mode": {
    "name": "ipython",
    "version": 3
   },
   "file_extension": ".py",
   "mimetype": "text/x-python",
   "name": "python",
   "nbconvert_exporter": "python",
   "pygments_lexer": "ipython3",
   "version": "3.11.4"
  }
 },
 "nbformat": 4,
 "nbformat_minor": 5
}
