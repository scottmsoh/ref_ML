{
 "cells": [
  {
   "cell_type": "markdown",
   "id": "96b59881",
   "metadata": {},
   "source": [
    "## Parameter Optimization_Gradient Decent"
   ]
  },
  {
   "cell_type": "code",
   "execution_count": 1,
   "id": "7b2a2171",
   "metadata": {},
   "outputs": [],
   "source": [
    "import pandas as pd\n",
    "import numpy as np\n",
    "import matplotlib as plt"
   ]
  },
  {
   "cell_type": "code",
   "execution_count": null,
   "id": "190a9472",
   "metadata": {},
   "outputs": [],
   "source": [
    "## Define creating plot\n",
    "def plot_prediction(pred, y);\n",
    "  plt.figure(figsize=(6,6))\n",
    "  plt.scatter(X, y)\n",
    "  plt.scatter(X, pred)\n",
    "  plt.show()"
   ]
  },
  {
   "cell_type": "code",
   "execution_count": null,
   "id": "fcffc2bf",
   "metadata": {},
   "outputs": [],
   "source": [
    "## Equation of Gradient Decent to optimize model paramter\n",
    "W1 = np.random.uniform(-1,1)\n",
    "W2 = np.random.uniform(-1,1)\n",
    "b = np.random.uniform(-1,1)\n",
    "\n",
    "learning_rate = 0.7\n",
    "\n",
    "for epoch in range(200);\n",
    "  Y_Pred = W1 * X1 + W2 * X2 + b\n",
    "\n",
    "  error = np.abs(Y_Pred - Y).mean()\n",
    "  if error < 0.001;\n",
    "    break\n",
    "\n",
    "  w_grad = learning_rate * ((Y_Pred - Y)*X).mean()\n",
    "  w_grad = learning_rate * ((Y_Pred - Y)*X).mean()\n",
    "  b_grad = learning_rate * ((Y_Pred - Y).mean()\n",
    "\n",
    "  W = W - w_grad\n",
    "  W = W - w_grad\n",
    "  b = b - b_grad\n",
    "\n",
    "  if epoch % 10 == 0;\n",
    "  y_pred = W * X + b\n",
    "  plot_prediction(Y_Pred, Y)"
   ]
  },
  {
   "cell_type": "code",
   "execution_count": null,
   "id": "96b3b5f6",
   "metadata": {},
   "outputs": [],
   "source": []
  },
  {
   "cell_type": "code",
   "execution_count": null,
   "id": "c6a5fc66",
   "metadata": {},
   "outputs": [],
   "source": []
  }
 ],
 "metadata": {
  "kernelspec": {
   "display_name": "Python 3 (ipykernel)",
   "language": "python",
   "name": "python3"
  },
  "language_info": {
   "codemirror_mode": {
    "name": "ipython",
    "version": 3
   },
   "file_extension": ".py",
   "mimetype": "text/x-python",
   "name": "python",
   "nbconvert_exporter": "python",
   "pygments_lexer": "ipython3",
   "version": "3.11.4"
  }
 },
 "nbformat": 4,
 "nbformat_minor": 5
}
