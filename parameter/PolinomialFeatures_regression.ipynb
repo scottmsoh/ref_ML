{
 "cells": [
  {
   "cell_type": "markdown",
   "id": "7bb10478",
   "metadata": {},
   "source": [
    "## Adding polinomial features to original dataset"
   ]
  },
  {
   "cell_type": "code",
   "execution_count": 1,
   "id": "9b4e8cc6",
   "metadata": {},
   "outputs": [],
   "source": [
    "## preprocessing technique used in machine learning to create polynomial features \n",
    "## from the original features"
   ]
  },
  {
   "cell_type": "code",
   "execution_count": 3,
   "id": "c96f39b0",
   "metadata": {},
   "outputs": [],
   "source": [
    "## Concept is generating new features by raising them to different powers \n",
    "## and creating interaction terms."
   ]
  },
  {
   "cell_type": "markdown",
   "id": "4c4ae8e3",
   "metadata": {},
   "source": [
    "1. If I  have one feature 'X', and use polynomialFeature(degree=2)\n",
    "\n",
    "   It will create 'X2'(square) and intercept term\n",
    "\n",
    "2. Or If I have two features \"X\", \"Z\" and use polynomialFeature(degree=2)\n",
    "\n",
    "   It will create \"X2\", \"Z2\", interaction term \"X*Z\""
   ]
  },
  {
   "cell_type": "code",
   "execution_count": null,
   "id": "c51838af",
   "metadata": {},
   "outputs": [],
   "source": [
    "from sklearn.preprocessing import PolynomialFeatures\n",
    "from sklearn.linear_model import LinearRegression\n",
    "from sklearn.pipeline import make_pipeline\n",
    "\n",
    "# e.g. Creating a polynomial regression model of degree 2\n",
    "poly_model = make_pipeline(PolynomialFeatures(degree=2),\n",
    "                           LinearRegression())\n",
    "\n",
    "# Fit the model\n",
    "poly_model.fit(X_train, y_train)\n",
    "\n",
    "# Predict using the model\n",
    "y_pred = poly_model.predict(X_test)\n"
   ]
  }
 ],
 "metadata": {
  "kernelspec": {
   "display_name": "Python 3 (ipykernel)",
   "language": "python",
   "name": "python3"
  },
  "language_info": {
   "codemirror_mode": {
    "name": "ipython",
    "version": 3
   },
   "file_extension": ".py",
   "mimetype": "text/x-python",
   "name": "python",
   "nbconvert_exporter": "python",
   "pygments_lexer": "ipython3",
   "version": "3.11.4"
  }
 },
 "nbformat": 4,
 "nbformat_minor": 5
}
