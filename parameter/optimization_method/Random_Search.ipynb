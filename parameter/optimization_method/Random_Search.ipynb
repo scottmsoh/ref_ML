{
 "cells": [
  {
   "cell_type": "markdown",
   "id": "0a466ef7",
   "metadata": {},
   "source": [
    "## Random Search"
   ]
  },
  {
   "cell_type": "code",
   "execution_count": null,
   "id": "176080d1",
   "metadata": {},
   "outputs": [],
   "source": [
    "## Declaration <br/>\n",
    "## from sklearn.preprocessing import PolynomialFeatures \n",
    "## from sklearn.linear_model import LinearRegression \n",
    "## from sklearn.pipeline import make_pipeline \n",
    "## import matplotlib.pyplot as plt\n",
    "## !pip install scipy\n",
    "\n",
    "from sklearn.model_selection import RandomizedSearchCV \n",
    "import scipy.stats as stats\n",
    "## for using uniform and randint\n",
    "\n",
    "%matplotlib inline \n",
    "\n",
    "## range: 0~20 degree apply\n",
    "param_random = {'polynomialfeatures__degree': np.arange(21),\n",
    "              'linearregression__fit_intercept': [True, False],\n",
    "              'linearregression__normalize': [True, False]}\n",
    "## In this example: Among 20*2*2= 80ea cases, it will be executed randomly to save time\n",
    "## ex) decision tree\n",
    "## param_random = {'min_impurity_decrease': uniform(0.0001, 0,001),\n",
    "##                 'max_depth': randint(20, 50),\n",
    "##                 'min_samples_split': randint(2,25) }\n",
    "## --> min_impurity_decrease will be randomly sampled from a uniform distribution ranging approximately \n",
    "##     from 0.0001 to 0.0011.\n",
    "## --> max depth will be sampled integers from 20 to 49.\n",
    "## --> min_samples_split will be sampled integers from 2 to 24.\n",
    "\n",
    "random_search = RandomizedSearchCV(PolynomialRegression(), param_random, n_iter=100, random_state=42)\n",
    "## Add cv= 7 Cross-validation function: e.g. 7ea cross-validate, default value d=5\n",
    "\n",
    "random_search.fit(X,y)\n",
    "\n",
    "print(\"Best Parameters:\", random_search.best_params_)\n",
    "print(\"Best Score:\", random_search.best_score_)\n",
    "\n",
    "## * Optimized Model (plot visualization)\n",
    "model = random_search.best_estmiator_\n",
    "\n",
    "plt.fiture(figsize=(8,7)\n",
    "plt.scatter(X.ravel(), y)\n",
    "lim = plt.axis()\n",
    "y_test = model.fit(X,y).predict(X_test)\n",
    "plt.plot(X_test.ravel(), y_test);\n",
    "plt.axis(lim);"
   ]
  },
  {
   "cell_type": "code",
   "execution_count": null,
   "id": "45c7a306",
   "metadata": {},
   "outputs": [],
   "source": []
  }
 ],
 "metadata": {
  "kernelspec": {
   "display_name": "Python 3 (ipykernel)",
   "language": "python",
   "name": "python3"
  },
  "language_info": {
   "codemirror_mode": {
    "name": "ipython",
    "version": 3
   },
   "file_extension": ".py",
   "mimetype": "text/x-python",
   "name": "python",
   "nbconvert_exporter": "python",
   "pygments_lexer": "ipython3",
   "version": "3.11.4"
  }
 },
 "nbformat": 4,
 "nbformat_minor": 5
}
